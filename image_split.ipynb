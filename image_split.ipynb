{
  "nbformat": 4,
  "nbformat_minor": 0,
  "metadata": {
    "colab": {
      "provenance": [],
      "collapsed_sections": [],
      "authorship_tag": "ABX9TyPtvnS0CPtTuKITWP8QjQAL"
    },
    "kernelspec": {
      "name": "python3",
      "display_name": "Python 3"
    },
    "language_info": {
      "name": "python"
    }
  },
  "cells": [
    {
      "cell_type": "markdown",
      "source": [
        "**Quickly split an image into rows and columns (tiles).**\n",
        "\n",
        "[split-image](https://pypi.org/project/split-image/) is a Python package that you can use from the command line to split an image into tiles.\n",
        "\n",
        "![alt text](https://drive.google.com/uc?id=1cdbBrS675gj5aDm5zM7ZuPB1M_qv8Hvk)\n",
        "\n",
        "**Installation**\n",
        "\n",
        "`pip install split-image`\n",
        "\n",
        "**Usage**\n",
        "```\n",
        "from split_image import split_image\n",
        "\n",
        "split_image(image_path, rows, cols, should_square, should_cleanup, [output_dir])\n",
        "# e.g. split_image(\"bridge.jpg\", 2, 2, True, False)\n",
        "```\n",
        "\n",
        "**Basic examples**\n",
        "\n",
        "`split_image(\"/content/cat.png\", 15, 8, False, False,\"/content/\")`\n",
        "\n",
        "This splits the cat.png image in 4 tiles (2 rows and 2 columns).\n",
        "![alt text](https://drive.google.com/uc?id=1l3xu6QyrUPF_WpFwR3PYTGkd2p5EFEMa)\n",
        "\n",
        "`split_image(\"/content/bridge.png\", 3, 4, True, False,\"/content/\")`\n",
        "\n",
        "This splits the `bridge.png` image in 12 tiles (3 rows and 4 columns). The square arguments `True` resizes the image into a square before splitting it. The background color used to fill the square is determined from the image automatically.\n",
        "![alt text](https://drive.google.com/uc?id=1bCZ0_bK9PixrhVdAAn1h5b-2wQD17hQP)\n",
        "\n",
        "\n"
      ],
      "metadata": {
        "id": "VwGSytQ3eePu"
      }
    },
    {
      "cell_type": "code",
      "execution_count": null,
      "metadata": {
        "colab": {
          "base_uri": "https://localhost:8080/"
        },
        "id": "EziHZPQAJGpt",
        "outputId": "636e991d-8cad-4872-cd43-ccff650f1b69"
      },
      "outputs": [
        {
          "output_type": "stream",
          "name": "stdout",
          "text": [
            "Looking in indexes: https://pypi.org/simple, https://us-python.pkg.dev/colab-wheels/public/simple/\n",
            "Requirement already satisfied: split-image in /usr/local/lib/python3.7/dist-packages (1.7.0)\n",
            "Requirement already satisfied: Pillow in /usr/local/lib/python3.7/dist-packages (from split-image) (7.1.2)\n"
          ]
        }
      ],
      "source": [
        "# Install package\n",
        "!pip install split-image"
      ]
    },
    {
      "cell_type": "code",
      "source": [
        "# Load library\n",
        "from split_image import split_image"
      ],
      "metadata": {
        "id": "sKXuhVpUJoP8"
      },
      "execution_count": null,
      "outputs": []
    },
    {
      "cell_type": "code",
      "source": [
        "# Splitting Image\n",
        "split_image(\"/content/fakes000040.png\", 15, 8, False, False,'/content/')"
      ],
      "metadata": {
        "id": "YkoljHb3JoM3"
      },
      "execution_count": null,
      "outputs": []
    }
  ]
}